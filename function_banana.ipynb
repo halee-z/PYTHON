{
  "nbformat": 4,
  "nbformat_minor": 0,
  "metadata": {
    "colab": {
      "provenance": []
    },
    "kernelspec": {
      "name": "python3",
      "display_name": "Python 3"
    },
    "language_info": {
      "name": "python"
    }
  },
  "cells": [
    {
      "cell_type": "markdown",
      "source": [
        "***add***"
      ],
      "metadata": {
        "id": "OrUKqI8VzXb8"
      }
    },
    {
      "cell_type": "code",
      "execution_count": null,
      "metadata": {
        "id": "ufTj3vwMzLI0",
        "colab": {
          "base_uri": "https://localhost:8080/"
        },
        "outputId": "5a8730d8-b558-4bb5-df01-0a578845fea1"
      },
      "outputs": [
        {
          "output_type": "execute_result",
          "data": {
            "text/plain": [
              "14"
            ]
          },
          "metadata": {},
          "execution_count": 2
        }
      ],
      "source": [
        "def add(num1,num2):\n",
        "  return num1 + num2\n",
        "\n",
        "add(5,9)\n"
      ]
    },
    {
      "cell_type": "markdown",
      "source": [
        "***sub***"
      ],
      "metadata": {
        "id": "iiIJCJFn_q6y"
      }
    },
    {
      "cell_type": "code",
      "source": [
        "def sub(x,y):\n",
        "  return x - y\n",
        "\n",
        "sub(80,43)"
      ],
      "metadata": {
        "colab": {
          "base_uri": "https://localhost:8080/"
        },
        "id": "4jsBa2HT_qIH",
        "outputId": "7e446d5b-587c-4702-eea5-72ba760b712f"
      },
      "execution_count": null,
      "outputs": [
        {
          "output_type": "execute_result",
          "data": {
            "text/plain": [
              "37"
            ]
          },
          "metadata": {},
          "execution_count": 3
        }
      ]
    },
    {
      "cell_type": "markdown",
      "source": [
        "***multiply***"
      ],
      "metadata": {
        "id": "-FMUJHT__-Uj"
      }
    },
    {
      "cell_type": "code",
      "source": [
        "def multiply(a,b):\n",
        "  return a * b\n",
        "\n",
        "multiply(4,7)"
      ],
      "metadata": {
        "colab": {
          "base_uri": "https://localhost:8080/"
        },
        "id": "jLabvN3fABbd",
        "outputId": "a9aa2ce3-f275-47e9-e1e6-b76f63d13550"
      },
      "execution_count": null,
      "outputs": [
        {
          "output_type": "execute_result",
          "data": {
            "text/plain": [
              "28"
            ]
          },
          "metadata": {},
          "execution_count": 4
        }
      ]
    },
    {
      "cell_type": "markdown",
      "source": [
        "***divide***"
      ],
      "metadata": {
        "id": "G2Dr6MyiAnEb"
      }
    },
    {
      "cell_type": "code",
      "source": [
        "def divide(a,d):\n",
        "  return a / d\n",
        "\n",
        "divide(90,10)"
      ],
      "metadata": {
        "colab": {
          "base_uri": "https://localhost:8080/"
        },
        "id": "s_wEN8BoAlSy",
        "outputId": "452d66ac-89b8-401e-d555-68c99028b415"
      },
      "execution_count": null,
      "outputs": [
        {
          "output_type": "execute_result",
          "data": {
            "text/plain": [
              "9.0"
            ]
          },
          "metadata": {},
          "execution_count": 5
        }
      ]
    }
  ]
}