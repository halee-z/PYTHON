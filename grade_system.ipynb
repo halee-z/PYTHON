{
  "nbformat": 4,
  "nbformat_minor": 0,
  "metadata": {
    "colab": {
      "provenance": []
    },
    "kernelspec": {
      "name": "python3",
      "display_name": "Python 3"
    },
    "language_info": {
      "name": "python"
    }
  },
  "cells": [
    {
      "cell_type": "markdown",
      "source": [
        "***grade system***"
      ],
      "metadata": {
        "id": "tU73SiN396pA"
      }
    },
    {
      "cell_type": "code",
      "execution_count": null,
      "metadata": {
        "colab": {
          "base_uri": "https://localhost:8080/"
        },
        "id": "FcbhLNhi95cF",
        "outputId": "e5f8d28f-2e1b-4467-fa40-5b0e57c5193f"
      },
      "outputs": [
        {
          "output_type": "stream",
          "name": "stdout",
          "text": [
            "Enter your percentage: 75\n",
            "Your grade is A\n",
            "Keep it up 😊\n"
          ]
        }
      ],
      "source": [
        "h = int(input(\"Enter your percentage: \"))  # Input message corrected\n",
        "\n",
        "if h < 60:  # For grades less than 60\n",
        "    print(\"Your grade is C\")\n",
        "elif h < 70:  # For grades less than 70\n",
        "    print(\"Your grade is B\")\n",
        "elif h < 80:  # For grades less than 80\n",
        "    print(\"Your grade is A\")\n",
        "elif h <= 100:  # For grades up to 100\n",
        "    print(\"Your grade is A+\")\n",
        "else:  # If the number is greater than 100 or invalid\n",
        "    print(\"Invalid input or you're failed.\")\n",
        "\n",
        "print(\"Keep it up 😊\")\n"
      ]
    }
  ]
}