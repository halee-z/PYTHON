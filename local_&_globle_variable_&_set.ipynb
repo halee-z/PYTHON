{
  "nbformat": 4,
  "nbformat_minor": 0,
  "metadata": {
    "colab": {
      "provenance": []
    },
    "kernelspec": {
      "name": "python3",
      "display_name": "Python 3"
    },
    "language_info": {
      "name": "python"
    }
  },
  "cells": [
    {
      "cell_type": "markdown",
      "source": [
        "***error***"
      ],
      "metadata": {
        "id": "S4qiat3ogGbF"
      }
    },
    {
      "cell_type": "code",
      "execution_count": null,
      "metadata": {
        "colab": {
          "base_uri": "https://localhost:8080/"
        },
        "id": "m0dCUUX5QKzH",
        "outputId": "654bad9e-5781-443c-a3e6-a3edfa452622"
      },
      "outputs": [
        {
          "output_type": "stream",
          "name": "stdout",
          "text": [
            "enter your number7\n",
            "7 x 1 =7\n",
            "7 x 2 =14\n",
            "7 x 3 =21\n",
            "7 x 4 =28\n",
            "7 x 5 =35\n",
            "7 x 6 =42\n",
            "7 x 7 =49\n",
            "7 x 8 =56\n",
            "7 x 9 =63\n",
            "7 x 10 =70\n",
            "the table is printed\n"
          ]
        }
      ],
      "source": [
        "user_input=int(input(\"enter your number\"))\n",
        "\n",
        "for num in range(1,11):\n",
        "  print(f\"{user_input} x {num} ={num * user_input}\")\n",
        "\n",
        "\n",
        "print(\"the table is printed\")\n"
      ]
    },
    {
      "cell_type": "code",
      "source": [
        "user_input=int(input(\"enter your number\"))\n",
        "try:\n",
        "  for num in range(1,11):\n",
        "    print(f\"{user_input} x {num} ={num * user_input}\")\n",
        "except:\n",
        "  print(\"please provide valid input\")\n",
        "\n",
        "print(\"the table is printed\")"
      ],
      "metadata": {
        "colab": {
          "base_uri": "https://localhost:8080/"
        },
        "id": "FJf_grynT597",
        "outputId": "5f1d0cca-9b3d-4f41-d38e-13d4f0acfda5"
      },
      "execution_count": null,
      "outputs": [
        {
          "output_type": "stream",
          "name": "stdout",
          "text": [
            "enter your number100\n",
            "100 x 1 =100\n",
            "100 x 2 =200\n",
            "100 x 3 =300\n",
            "100 x 4 =400\n",
            "100 x 5 =500\n",
            "100 x 6 =600\n",
            "100 x 7 =700\n",
            "100 x 8 =800\n",
            "100 x 9 =900\n",
            "100 x 10 =1000\n",
            "the table is printed\n"
          ]
        }
      ]
    },
    {
      "cell_type": "code",
      "source": [
        "from re import error\n",
        "user_input=int(input(\"enter your number\"))\n",
        "try:\n",
        "  for num in range(1,11):\n",
        "    print(f\"{user_input} x {num} ={num * user_input}\")\n",
        "except Exception as error:\n",
        "  print(\"error\")\n",
        "\n",
        "print(\"the table is printed\")"
      ],
      "metadata": {
        "colab": {
          "base_uri": "https://localhost:8080/"
        },
        "id": "3Gxgq-V7Ui7v",
        "outputId": "2f298219-adb5-417b-aef5-b43302358635"
      },
      "execution_count": null,
      "outputs": [
        {
          "output_type": "stream",
          "name": "stdout",
          "text": [
            "enter your number77\n",
            "77 x 1 =77\n",
            "77 x 2 =154\n",
            "77 x 3 =231\n",
            "77 x 4 =308\n",
            "77 x 5 =385\n",
            "77 x 6 =462\n",
            "77 x 7 =539\n",
            "77 x 8 =616\n",
            "77 x 9 =693\n",
            "77 x 10 =770\n",
            "the table is printed\n"
          ]
        }
      ]
    },
    {
      "cell_type": "code",
      "source": [
        "# zerodivisionerror\n",
        "num=[1,2,3]\n",
        "\n",
        "try:\n",
        "  result=num[4]\n",
        "except ZeroDivisionError:\n",
        "  print(\"number zero is not divisible\")\n"
      ],
      "metadata": {
        "colab": {
          "base_uri": "https://localhost:8080/"
        },
        "id": "5E4KmXHGVX9e",
        "outputId": "163f7ae9-1e7e-436d-f989-96292f3b6d68"
      },
      "execution_count": null,
      "outputs": [
        {
          "output_type": "stream",
          "name": "stdout",
          "text": [
            "please provide valid index\n"
          ]
        }
      ]
    },
    {
      "cell_type": "code",
      "source": [
        "# indexerror\n",
        "try:\n",
        "  result=num[4]\n",
        "except IndexError:\n",
        "  print(\"please provide valid index\")\n"
      ],
      "metadata": {
        "id": "TrDd4__2Oe9D"
      },
      "execution_count": null,
      "outputs": []
    },
    {
      "cell_type": "code",
      "source": [
        "# exception as error\n",
        "try:\n",
        "  result=num[4]\n",
        "except Exception as error:\n",
        "  print(\"error\")"
      ],
      "metadata": {
        "id": "4UVXNPdhOkLL"
      },
      "execution_count": null,
      "outputs": []
    },
    {
      "cell_type": "markdown",
      "source": [
        "***local & globle variable***"
      ],
      "metadata": {
        "id": "U7WgLwmigW1z"
      }
    },
    {
      "cell_type": "code",
      "source": [
        "num = 5\n",
        "num1 = 10\n",
        "\n",
        "def addition ():\n",
        "  return num + num1\n",
        "\n",
        "addition()"
      ],
      "metadata": {
        "id": "zOi2BGO0WXvJ",
        "colab": {
          "base_uri": "https://localhost:8080/"
        },
        "outputId": "919214e0-f0d1-4d36-95eb-cafd19246c36"
      },
      "execution_count": null,
      "outputs": [
        {
          "output_type": "execute_result",
          "data": {
            "text/plain": [
              "15"
            ]
          },
          "metadata": {},
          "execution_count": 14
        }
      ]
    },
    {
      "cell_type": "code",
      "source": [
        "num = 5  #globle variable\n",
        "print(num)\n",
        "def addition ():\n",
        "  num = 7  #local variable\n",
        "  print(num)\n",
        "\n",
        "\n",
        "addition()\n",
        "print(num)\n"
      ],
      "metadata": {
        "colab": {
          "base_uri": "https://localhost:8080/"
        },
        "id": "GoGBCxIeg4CO",
        "outputId": "a35db994-32c0-4a36-be49-7de70563fa4d"
      },
      "execution_count": null,
      "outputs": [
        {
          "output_type": "stream",
          "name": "stdout",
          "text": [
            "5\n",
            "7\n",
            "5\n"
          ]
        }
      ]
    },
    {
      "cell_type": "markdown",
      "source": [
        "***set***"
      ],
      "metadata": {
        "id": "7DzfgQrdiYKT"
      }
    },
    {
      "cell_type": "code",
      "source": [
        "#set\n",
        "numbers = {1,4,73,84,920,293,8,39,9,0,1,2,394,348,}\n",
        "\n",
        "print(numbers)"
      ],
      "metadata": {
        "colab": {
          "base_uri": "https://localhost:8080/"
        },
        "id": "yML8fFytibOQ",
        "outputId": "d732e972-67e6-43f4-e008-2e05c0ef8f4e"
      },
      "execution_count": null,
      "outputs": [
        {
          "output_type": "stream",
          "name": "stdout",
          "text": [
            "{0, 1, 2, 4, 293, 39, 8, 73, 9, 394, 84, 920, 348}\n"
          ]
        }
      ]
    },
    {
      "cell_type": "markdown",
      "source": [
        "# method of set\n",
        "\n",
        "add\n",
        "\n",
        "remove\n",
        "\n",
        "discard\n",
        "\n",
        "pop\n",
        "\n",
        "intersection\n",
        "\n",
        "union"
      ],
      "metadata": {
        "id": "szjtwkdnjC3m"
      }
    },
    {
      "cell_type": "code",
      "source": [
        "# add\n",
        "\n",
        "a={\"haleema\",\"sumbul\",\"maryam\",\"tabasum\",\"nawal\"}\n",
        "b = {1,2,3,4,5,6,7,8,9}\n",
        "c = \"jon\"\n",
        "a.add(c)\n",
        "print(a)"
      ],
      "metadata": {
        "colab": {
          "base_uri": "https://localhost:8080/"
        },
        "id": "wSfsQYgbjBA-",
        "outputId": "df1e1c85-449d-4b70-c891-d67d33e72b29"
      },
      "execution_count": 30,
      "outputs": [
        {
          "output_type": "stream",
          "name": "stdout",
          "text": [
            "{'maryam', 'jon', 'sumbul', 'tabasum', 'nawal', 'haleema'}\n"
          ]
        }
      ]
    },
    {
      "cell_type": "code",
      "source": [
        "# union\n",
        "a={\"haleema\",\"sumbul\",\"maryam\",\"tabasum\",\"nawal\"}\n",
        "b={\"arfat\"}\n",
        "\n",
        "a.union(b)\n"
      ],
      "metadata": {
        "id": "W_Fyl2hJnxYD",
        "colab": {
          "base_uri": "https://localhost:8080/"
        },
        "outputId": "9702e1d1-37c6-4c7b-d9b7-f52a711bf18f"
      },
      "execution_count": 31,
      "outputs": [
        {
          "output_type": "execute_result",
          "data": {
            "text/plain": [
              "{'arfat', 'haleema', 'maryam', 'nawal', 'sumbul', 'tabasum'}"
            ]
          },
          "metadata": {},
          "execution_count": 31
        }
      ]
    },
    {
      "cell_type": "code",
      "source": [
        "# intersection\n",
        "a={\"haleema\",\"sumbul\",\"maryam\",\"tabasum\",\"nawal\"}\n",
        "b={\"arfat\",\"haleema\"}\n",
        "\n",
        "a.intersection(b)"
      ],
      "metadata": {
        "colab": {
          "base_uri": "https://localhost:8080/"
        },
        "id": "5SyyZySuKpQ9",
        "outputId": "e4aa04ca-5d93-470f-a12b-1303ee7c4101"
      },
      "execution_count": 8,
      "outputs": [
        {
          "output_type": "execute_result",
          "data": {
            "text/plain": [
              "{'haleema'}"
            ]
          },
          "metadata": {},
          "execution_count": 8
        }
      ]
    },
    {
      "cell_type": "code",
      "source": [
        "# remove\n",
        "a={\"haleema\",\"sumbul\",\"maryam\",\"tabasum\",\"nawal\"}\n",
        "b=\"tabasum\"\n",
        "\n",
        "a.remove(b)\n",
        "print(a)"
      ],
      "metadata": {
        "colab": {
          "base_uri": "https://localhost:8080/"
        },
        "id": "hd4uDZUOKxQ7",
        "outputId": "5dd29139-e137-41d1-c769-f75f211a3208"
      },
      "execution_count": 11,
      "outputs": [
        {
          "output_type": "stream",
          "name": "stdout",
          "text": [
            "{'maryam', 'sumbul', 'nawal', 'haleema'}\n"
          ]
        }
      ]
    },
    {
      "cell_type": "code",
      "source": [
        "# discard\n",
        "a={\"haleema\",\"sumbul\",\"maryam\",\"tabasum\",\"nawal\"}\n",
        "b=\"sumbul\"\n",
        "\n",
        "a.discard(b)\n",
        "print(a)"
      ],
      "metadata": {
        "colab": {
          "base_uri": "https://localhost:8080/"
        },
        "id": "i9Q-_ydYLBdS",
        "outputId": "7506d1d8-f087-4195-fb9a-f784da5f24d4"
      },
      "execution_count": 27,
      "outputs": [
        {
          "output_type": "stream",
          "name": "stdout",
          "text": [
            "{'maryam', 'tabasum', 'nawal', 'haleema'}\n"
          ]
        }
      ]
    },
    {
      "cell_type": "code",
      "source": [
        "#pop\n",
        "my_set = {1, 2, 3}\n",
        "removed_element = my_set.pop()\n",
        "print(removed_element)  # Output: Random element (e.g., 1)\n"
      ],
      "metadata": {
        "colab": {
          "base_uri": "https://localhost:8080/"
        },
        "id": "CKw0mB8oLN3M",
        "outputId": "fbe302da-07bb-498d-ab25-c322883ec242"
      },
      "execution_count": 29,
      "outputs": [
        {
          "output_type": "stream",
          "name": "stdout",
          "text": [
            "1\n"
          ]
        }
      ]
    },
    {
      "cell_type": "code",
      "source": [
        "#clear\n",
        "my_set = {1, 2, 3}\n",
        "my_set.clear()\n",
        "print(my_set)  # Output: set()\n"
      ],
      "metadata": {
        "colab": {
          "base_uri": "https://localhost:8080/"
        },
        "id": "TtiWy77FMKkv",
        "outputId": "d6452251-ecd9-406b-d818-8e25d50e6b09"
      },
      "execution_count": 25,
      "outputs": [
        {
          "output_type": "stream",
          "name": "stdout",
          "text": [
            "set()\n"
          ]
        }
      ]
    },
    {
      "cell_type": "code",
      "source": [
        "# difference\n",
        "set1 = {1, 2, 3}\n",
        "set2 = {3, 4, 5}\n",
        "result = set1.difference(set2)\n",
        "print(result)  # Output: {1, 2}\n"
      ],
      "metadata": {
        "colab": {
          "base_uri": "https://localhost:8080/"
        },
        "id": "rSsuM1WwM142",
        "outputId": "380bb639-0c2d-47b1-cfdc-c8a71ab6fb93"
      },
      "execution_count": 24,
      "outputs": [
        {
          "output_type": "stream",
          "name": "stdout",
          "text": [
            "{1, 2}\n"
          ]
        }
      ]
    },
    {
      "cell_type": "code",
      "source": [
        "#issubset\n",
        "set1 = {1, 2}\n",
        "set2 = {1, 2, 3, 4}\n",
        "print(set1.issubset(set2))  # Output: True\n"
      ],
      "metadata": {
        "colab": {
          "base_uri": "https://localhost:8080/"
        },
        "id": "WsCykKtzM9oq",
        "outputId": "0800b1fd-1a16-4069-9bf8-33116f49d9e9"
      },
      "execution_count": 23,
      "outputs": [
        {
          "output_type": "stream",
          "name": "stdout",
          "text": [
            "True\n"
          ]
        }
      ]
    },
    {
      "cell_type": "code",
      "source": [
        "#issuperset\n",
        "set1 = {1, 2}\n",
        "set2 = {1, 2, 3, 4}\n",
        "print(set2.issuperset(set1))  # Output: True\n"
      ],
      "metadata": {
        "colab": {
          "base_uri": "https://localhost:8080/"
        },
        "id": "isPvIDOgNMLY",
        "outputId": "68d4f7ec-6e70-4167-b014-829a2d15fcef"
      },
      "execution_count": 22,
      "outputs": [
        {
          "output_type": "stream",
          "name": "stdout",
          "text": [
            "True\n"
          ]
        }
      ]
    },
    {
      "cell_type": "code",
      "source": [
        "# isdisjoint\n",
        "set1 = {1, 2}\n",
        "set2 = {1, 2, 3, 4}\n",
        "set3 = {5, 6, 7}\n",
        "print(set1.isdisjoint(set3))  # Output: True\n"
      ],
      "metadata": {
        "colab": {
          "base_uri": "https://localhost:8080/"
        },
        "id": "yGqi89tnNaVI",
        "outputId": "1fb12eb2-bb6f-47a6-8787-9aefefeced3a"
      },
      "execution_count": 21,
      "outputs": [
        {
          "output_type": "stream",
          "name": "stdout",
          "text": [
            "True\n"
          ]
        }
      ]
    },
    {
      "cell_type": "code",
      "source": [
        "# copy\n",
        "set1 = {1, 2}\n",
        "new_set = set1.copy()\n",
        "print(new_set)  # Output: {1, 2}\n"
      ],
      "metadata": {
        "colab": {
          "base_uri": "https://localhost:8080/"
        },
        "id": "-AA3i0gKNk32",
        "outputId": "fd0c2e20-618f-48ae-ebbb-e900000545cf"
      },
      "execution_count": 20,
      "outputs": [
        {
          "output_type": "stream",
          "name": "stdout",
          "text": [
            "{1, 2}\n"
          ]
        }
      ]
    },
    {
      "cell_type": "code",
      "source": [],
      "metadata": {
        "id": "VSG4OTA6OJdy"
      },
      "execution_count": null,
      "outputs": []
    }
  ]
}